{
 "cells": [
  {
   "cell_type": "markdown",
   "id": "d9f185b9",
   "metadata": {},
   "source": [
    "### CA1 – Data Preparation HDip\n",
    "\n",
    "#### 1.\tFIRST STEPS\n",
    "Importing the required libraries pandas and “numpy” to start the project, in case it needs other libraries it will be imported when necessary it comes. "
   ]
  },
  {
   "cell_type": "code",
   "execution_count": 1,
   "id": "b14e0677",
   "metadata": {},
   "outputs": [],
   "source": [
    "import pandas as pd\n",
    "import numpy as np\n",
    "\n",
    "import seaborn as sns\n",
    "import matplotlib.pyplot as plt\n",
    "%matplotlib inline\n",
    "sns.set()"
   ]
  },
  {
   "cell_type": "markdown",
   "id": "a0ef7db3",
   "metadata": {},
   "source": [
    "Loading the dataset using the method “`.read_csv`” to import the required data existing in the .csv file. "
   ]
  },
  {
   "cell_type": "code",
   "execution_count": 2,
   "id": "69262ff3",
   "metadata": {},
   "outputs": [],
   "source": [
    "df = pd.read_csv(\"student_data.csv\")"
   ]
  },
  {
   "cell_type": "markdown",
   "id": "ee131252",
   "metadata": {},
   "source": [
    "### Inspecting the Data Set\n",
    "\n",
    "The first command useful to start understanding the data is “`.head()`” to check the first five observations and features contained in the data frame after loaded. This command was important and necessary to get the first impression of it, returning that this dataset has 5 rows (features) and 37 columns (observations)."
   ]
  },
  {
   "cell_type": "code",
   "execution_count": 3,
   "id": "a3e30952",
   "metadata": {},
   "outputs": [
    {
     "data": {
      "text/html": [
       "<div>\n",
       "<style scoped>\n",
       "    .dataframe tbody tr th:only-of-type {\n",
       "        vertical-align: middle;\n",
       "    }\n",
       "\n",
       "    .dataframe tbody tr th {\n",
       "        vertical-align: top;\n",
       "    }\n",
       "\n",
       "    .dataframe thead th {\n",
       "        text-align: right;\n",
       "    }\n",
       "</style>\n",
       "<table border=\"1\" class=\"dataframe\">\n",
       "  <thead>\n",
       "    <tr style=\"text-align: right;\">\n",
       "      <th></th>\n",
       "      <th>Marital status</th>\n",
       "      <th>Application mode</th>\n",
       "      <th>Application order</th>\n",
       "      <th>Course</th>\n",
       "      <th>Daytime/evening attendance</th>\n",
       "      <th>Previous qualification</th>\n",
       "      <th>Previous qualification (grade)</th>\n",
       "      <th>Nacionality</th>\n",
       "      <th>Mother's qualification</th>\n",
       "      <th>Father's qualification</th>\n",
       "      <th>...</th>\n",
       "      <th>Curricular units 2nd sem (credited)</th>\n",
       "      <th>Curricular units 2nd sem (enrolled)</th>\n",
       "      <th>Curricular units 2nd sem (evaluations)</th>\n",
       "      <th>Curricular units 2nd sem (approved)</th>\n",
       "      <th>Curricular units 2nd sem (grade)</th>\n",
       "      <th>Curricular units 2nd sem (without evaluations)</th>\n",
       "      <th>Unemployment rate</th>\n",
       "      <th>Inflation rate</th>\n",
       "      <th>GDP</th>\n",
       "      <th>Target</th>\n",
       "    </tr>\n",
       "  </thead>\n",
       "  <tbody>\n",
       "    <tr>\n",
       "      <th>0</th>\n",
       "      <td>1</td>\n",
       "      <td>17</td>\n",
       "      <td>5</td>\n",
       "      <td>171.0</td>\n",
       "      <td>1</td>\n",
       "      <td>1</td>\n",
       "      <td>122.0</td>\n",
       "      <td>1</td>\n",
       "      <td>19</td>\n",
       "      <td>12.0</td>\n",
       "      <td>...</td>\n",
       "      <td>0</td>\n",
       "      <td>0.0</td>\n",
       "      <td>0</td>\n",
       "      <td>0</td>\n",
       "      <td>0.000000</td>\n",
       "      <td>0</td>\n",
       "      <td>10.8</td>\n",
       "      <td>1.4</td>\n",
       "      <td>1.74</td>\n",
       "      <td>Dropout</td>\n",
       "    </tr>\n",
       "    <tr>\n",
       "      <th>1</th>\n",
       "      <td>1</td>\n",
       "      <td>15</td>\n",
       "      <td>1</td>\n",
       "      <td>9254.0</td>\n",
       "      <td>1</td>\n",
       "      <td>1</td>\n",
       "      <td>160.0</td>\n",
       "      <td>1</td>\n",
       "      <td>1</td>\n",
       "      <td>3.0</td>\n",
       "      <td>...</td>\n",
       "      <td>0</td>\n",
       "      <td>6.0</td>\n",
       "      <td>6</td>\n",
       "      <td>6</td>\n",
       "      <td>13.666667</td>\n",
       "      <td>0</td>\n",
       "      <td>13.9</td>\n",
       "      <td>-0.3</td>\n",
       "      <td>0.79</td>\n",
       "      <td>Graduate</td>\n",
       "    </tr>\n",
       "    <tr>\n",
       "      <th>2</th>\n",
       "      <td>1</td>\n",
       "      <td>1</td>\n",
       "      <td>5</td>\n",
       "      <td>9070.0</td>\n",
       "      <td>1</td>\n",
       "      <td>1</td>\n",
       "      <td>122.0</td>\n",
       "      <td>1</td>\n",
       "      <td>37</td>\n",
       "      <td>37.0</td>\n",
       "      <td>...</td>\n",
       "      <td>0</td>\n",
       "      <td>6.0</td>\n",
       "      <td>0</td>\n",
       "      <td>0</td>\n",
       "      <td>0.000000</td>\n",
       "      <td>0</td>\n",
       "      <td>10.8</td>\n",
       "      <td>1.4</td>\n",
       "      <td>1.74</td>\n",
       "      <td>Dropout</td>\n",
       "    </tr>\n",
       "    <tr>\n",
       "      <th>3</th>\n",
       "      <td>1</td>\n",
       "      <td>17</td>\n",
       "      <td>2</td>\n",
       "      <td>9773.0</td>\n",
       "      <td>1</td>\n",
       "      <td>1</td>\n",
       "      <td>122.0</td>\n",
       "      <td>1</td>\n",
       "      <td>38</td>\n",
       "      <td>37.0</td>\n",
       "      <td>...</td>\n",
       "      <td>0</td>\n",
       "      <td>6.0</td>\n",
       "      <td>10</td>\n",
       "      <td>5</td>\n",
       "      <td>12.400000</td>\n",
       "      <td>0</td>\n",
       "      <td>9.4</td>\n",
       "      <td>-0.8</td>\n",
       "      <td>-3.12</td>\n",
       "      <td>Graduate</td>\n",
       "    </tr>\n",
       "    <tr>\n",
       "      <th>4</th>\n",
       "      <td>2</td>\n",
       "      <td>39</td>\n",
       "      <td>1</td>\n",
       "      <td>8014.0</td>\n",
       "      <td>0</td>\n",
       "      <td>1</td>\n",
       "      <td>100.0</td>\n",
       "      <td>1</td>\n",
       "      <td>37</td>\n",
       "      <td>38.0</td>\n",
       "      <td>...</td>\n",
       "      <td>0</td>\n",
       "      <td>6.0</td>\n",
       "      <td>6</td>\n",
       "      <td>6</td>\n",
       "      <td>13.000000</td>\n",
       "      <td>0</td>\n",
       "      <td>13.9</td>\n",
       "      <td>-0.3</td>\n",
       "      <td>0.79</td>\n",
       "      <td>Graduate</td>\n",
       "    </tr>\n",
       "  </tbody>\n",
       "</table>\n",
       "<p>5 rows × 37 columns</p>\n",
       "</div>"
      ],
      "text/plain": [
       "  Marital status  Application mode  Application order  Course  \\\n",
       "0              1                17                  5   171.0   \n",
       "1              1                15                  1  9254.0   \n",
       "2              1                 1                  5  9070.0   \n",
       "3              1                17                  2  9773.0   \n",
       "4              2                39                  1  8014.0   \n",
       "\n",
       "   Daytime/evening attendance  Previous qualification  \\\n",
       "0                           1                       1   \n",
       "1                           1                       1   \n",
       "2                           1                       1   \n",
       "3                           1                       1   \n",
       "4                           0                       1   \n",
       "\n",
       "   Previous qualification (grade)  Nacionality  Mother's qualification  \\\n",
       "0                           122.0            1                      19   \n",
       "1                           160.0            1                       1   \n",
       "2                           122.0            1                      37   \n",
       "3                           122.0            1                      38   \n",
       "4                           100.0            1                      37   \n",
       "\n",
       "   Father's qualification  ...  Curricular units 2nd sem (credited)  \\\n",
       "0                    12.0  ...                                    0   \n",
       "1                     3.0  ...                                    0   \n",
       "2                    37.0  ...                                    0   \n",
       "3                    37.0  ...                                    0   \n",
       "4                    38.0  ...                                    0   \n",
       "\n",
       "   Curricular units 2nd sem (enrolled)  \\\n",
       "0                                  0.0   \n",
       "1                                  6.0   \n",
       "2                                  6.0   \n",
       "3                                  6.0   \n",
       "4                                  6.0   \n",
       "\n",
       "   Curricular units 2nd sem (evaluations) Curricular units 2nd sem (approved)  \\\n",
       "0                                       0                                   0   \n",
       "1                                       6                                   6   \n",
       "2                                       0                                   0   \n",
       "3                                      10                                   5   \n",
       "4                                       6                                   6   \n",
       "\n",
       "   Curricular units 2nd sem (grade)  \\\n",
       "0                          0.000000   \n",
       "1                         13.666667   \n",
       "2                          0.000000   \n",
       "3                         12.400000   \n",
       "4                         13.000000   \n",
       "\n",
       "   Curricular units 2nd sem (without evaluations) Unemployment rate  \\\n",
       "0                                               0              10.8   \n",
       "1                                               0              13.9   \n",
       "2                                               0              10.8   \n",
       "3                                               0               9.4   \n",
       "4                                               0              13.9   \n",
       "\n",
       "   Inflation rate   GDP    Target  \n",
       "0             1.4  1.74   Dropout  \n",
       "1            -0.3  0.79  Graduate  \n",
       "2             1.4  1.74   Dropout  \n",
       "3            -0.8 -3.12  Graduate  \n",
       "4            -0.3  0.79  Graduate  \n",
       "\n",
       "[5 rows x 37 columns]"
      ]
     },
     "execution_count": 3,
     "metadata": {},
     "output_type": "execute_result"
    }
   ],
   "source": [
    "df.head()"
   ]
  },
  {
   "cell_type": "markdown",
   "id": "f045fdfd",
   "metadata": {},
   "source": [
    "Thereafter using the command “shape” shows us the complete body of the data in this case 4424 observations and 37 features to be analysed."
   ]
  },
  {
   "cell_type": "code",
   "execution_count": 4,
   "id": "bcd7f5af",
   "metadata": {},
   "outputs": [
    {
     "data": {
      "text/plain": [
       "(4424, 37)"
      ]
     },
     "execution_count": 4,
     "metadata": {},
     "output_type": "execute_result"
    }
   ],
   "source": [
    "df.shape"
   ]
  },
  {
   "cell_type": "markdown",
   "id": "b6e91767",
   "metadata": {},
   "source": [
    "Use “```.info()```” next to Print a concise summary of a DataFrame. This method prints information about a DataFrame including the index dtype and columns, non-null values and memory usage. (The Pandas Development Team, 2022). Getting this information it was necessary to learn the names of features existing and the difference between the total of observations shown before in the “shape” command and their respective data types."
   ]
  },
  {
   "cell_type": "code",
   "execution_count": 5,
   "id": "cffd8357",
   "metadata": {},
   "outputs": [
    {
     "name": "stdout",
     "output_type": "stream",
     "text": [
      "<class 'pandas.core.frame.DataFrame'>\n",
      "RangeIndex: 4424 entries, 0 to 4423\n",
      "Data columns (total 37 columns):\n",
      " #   Column                                          Non-Null Count  Dtype  \n",
      "---  ------                                          --------------  -----  \n",
      " 0   Marital status                                  4424 non-null   object \n",
      " 1   Application mode                                4424 non-null   int64  \n",
      " 2   Application order                               4424 non-null   int64  \n",
      " 3   Course                                          4423 non-null   float64\n",
      " 4   Daytime/evening attendance                      4424 non-null   int64  \n",
      " 5   Previous qualification                          4424 non-null   int64  \n",
      " 6   Previous qualification (grade)                  4424 non-null   float64\n",
      " 7   Nacionality                                     4424 non-null   int64  \n",
      " 8   Mother's qualification                          4424 non-null   int64  \n",
      " 9   Father's qualification                          4423 non-null   float64\n",
      " 10  Mother's occupation                             4424 non-null   int64  \n",
      " 11  Father's occupation                             4424 non-null   int64  \n",
      " 12  Admission grade                                 4423 non-null   float64\n",
      " 13  Displaced                                       4424 non-null   object \n",
      " 14  Educational special needs                       4424 non-null   int64  \n",
      " 15  Debtor                                          4423 non-null   float64\n",
      " 16  Tuition fees up to date                         4423 non-null   object \n",
      " 17  Gender                                          4424 non-null   int64  \n",
      " 18  Scholarship holder                              4424 non-null   int64  \n",
      " 19  Age at enrollment                               4424 non-null   object \n",
      " 20  International                                   4423 non-null   float64\n",
      " 21  Curricular units 1st sem (credited)             4424 non-null   object \n",
      " 22  Curricular units 1st sem (enrolled)             4424 non-null   int64  \n",
      " 23  Curricular units 1st sem (evaluations)          4424 non-null   int64  \n",
      " 24  Curricular units 1st sem (approved)             4424 non-null   int64  \n",
      " 25  Curricular units 1st sem (grade)                4423 non-null   float64\n",
      " 26  Curricular units 1st sem (without evaluations)  4424 non-null   int64  \n",
      " 27  Curricular units 2nd sem (credited)             4424 non-null   int64  \n",
      " 28  Curricular units 2nd sem (enrolled)             4423 non-null   float64\n",
      " 29  Curricular units 2nd sem (evaluations)          4424 non-null   int64  \n",
      " 30  Curricular units 2nd sem (approved)             4424 non-null   int64  \n",
      " 31  Curricular units 2nd sem (grade)                4423 non-null   float64\n",
      " 32  Curricular units 2nd sem (without evaluations)  4424 non-null   int64  \n",
      " 33  Unemployment rate                               4424 non-null   float64\n",
      " 34  Inflation rate                                  4424 non-null   float64\n",
      " 35  GDP                                             4424 non-null   float64\n",
      " 36  Target                                          4424 non-null   object \n",
      "dtypes: float64(12), int64(19), object(6)\n",
      "memory usage: 1.2+ MB\n"
     ]
    }
   ],
   "source": [
    "df.info()"
   ]
  },
  {
   "cell_type": "markdown",
   "id": "ab543f7a",
   "metadata": {},
   "source": [
    "The command “```.isnull().sum()```” was essential in this part of inspecting the data set to know the existent missing values in each feature."
   ]
  },
  {
   "cell_type": "code",
   "execution_count": 6,
   "id": "95411475",
   "metadata": {
    "scrolled": false
   },
   "outputs": [
    {
     "data": {
      "text/plain": [
       "Marital status                                    0\n",
       "Application mode                                  0\n",
       "Application order                                 0\n",
       "Course                                            1\n",
       "Daytime/evening attendance                        0\n",
       "Previous qualification                            0\n",
       "Previous qualification (grade)                    0\n",
       "Nacionality                                       0\n",
       "Mother's qualification                            0\n",
       "Father's qualification                            1\n",
       "Mother's occupation                               0\n",
       "Father's occupation                               0\n",
       "Admission grade                                   1\n",
       "Displaced                                         0\n",
       "Educational special needs                         0\n",
       "Debtor                                            1\n",
       "Tuition fees up to date                           1\n",
       "Gender                                            0\n",
       "Scholarship holder                                0\n",
       "Age at enrollment                                 0\n",
       "International                                     1\n",
       "Curricular units 1st sem (credited)               0\n",
       "Curricular units 1st sem (enrolled)               0\n",
       "Curricular units 1st sem (evaluations)            0\n",
       "Curricular units 1st sem (approved)               0\n",
       "Curricular units 1st sem (grade)                  1\n",
       "Curricular units 1st sem (without evaluations)    0\n",
       "Curricular units 2nd sem (credited)               0\n",
       "Curricular units 2nd sem (enrolled)               1\n",
       "Curricular units 2nd sem (evaluations)            0\n",
       "Curricular units 2nd sem (approved)               0\n",
       "Curricular units 2nd sem (grade)                  1\n",
       "Curricular units 2nd sem (without evaluations)    0\n",
       "Unemployment rate                                 0\n",
       "Inflation rate                                    0\n",
       "GDP                                               0\n",
       "Target                                            0\n",
       "dtype: int64"
      ]
     },
     "execution_count": 6,
     "metadata": {},
     "output_type": "execute_result"
    }
   ],
   "source": [
    "df.isnull().sum()"
   ]
  },
  {
   "cell_type": "markdown",
   "id": "061c9cb7",
   "metadata": {},
   "source": [
    "With a more refined code “```.isnull().sum()[df.isnull().sum() > 0]```” it was possible to get just the specific features that exist missing values, in this case, the columns: \n",
    "\n",
    "- Course;\n",
    "- Father's qualification;\n",
    "- Admission grade;\n",
    "- Debtor;\n",
    "- Tuition fees up to date;\n",
    "- International;\n",
    "- Curricular units 1st sem (grade);\n",
    "- Curricular units 2nd sem (enrolled);\n",
    "- Curricular units 2nd sem (grade)."
   ]
  },
  {
   "cell_type": "code",
   "execution_count": 7,
   "id": "83c05da1",
   "metadata": {
    "scrolled": true
   },
   "outputs": [
    {
     "data": {
      "text/plain": [
       "Course                                 1\n",
       "Father's qualification                 1\n",
       "Admission grade                        1\n",
       "Debtor                                 1\n",
       "Tuition fees up to date                1\n",
       "International                          1\n",
       "Curricular units 1st sem (grade)       1\n",
       "Curricular units 2nd sem (enrolled)    1\n",
       "Curricular units 2nd sem (grade)       1\n",
       "dtype: int64"
      ]
     },
     "execution_count": 7,
     "metadata": {},
     "output_type": "execute_result"
    }
   ],
   "source": [
    "df.isnull().sum()[df.isnull().sum() > 0]"
   ]
  },
  {
   "cell_type": "markdown",
   "id": "dfa43850",
   "metadata": {},
   "source": [
    "#### Result: Features missing values\n",
    "\n",
    "- Course 1\n",
    "- Father's qualification 1\n",
    "- Admission grade 1\n",
    "- Debtor 1\n",
    "- Tuition fees up to date 1\n",
    "- International 1\n",
    "- Curricular units 1st sem (grade) 1\n",
    "- Curricular units 2nd sem (enrolled) 1\n",
    "- Curricular units 2nd sem (grade) 1"
   ]
  },
  {
   "cell_type": "markdown",
   "id": "60a52d2f",
   "metadata": {},
   "source": [
    "---"
   ]
  },
  {
   "cell_type": "markdown",
   "id": "6d3c0d2b",
   "metadata": {},
   "source": [
    "#### 2.\tDATA CLEANING\n",
    "\n",
    "\n",
    "Before analysing the missing values, opted to check the types of data together with the file “`student_data_dictionary.xlsx`” provided, after some initial tests using “`.df.head()`”. Noticed that wasn't possible to get the visual information about the 37 features and check their respective Type, so, in this case, opted to use the “`.iloc`” method, to get the first 13 features, after the middle 13 features and the last 13 features.\n",
    "\n",
    "```python\n",
    "df.iloc[:, :13].head(5)\n",
    "df.iloc[:, 13:26].head(5)\n",
    "df.iloc[:, 26:37].head(5)\n",
    "```"
   ]
  },
  {
   "cell_type": "code",
   "execution_count": 8,
   "id": "b08fad87",
   "metadata": {},
   "outputs": [
    {
     "data": {
      "text/html": [
       "<div>\n",
       "<style scoped>\n",
       "    .dataframe tbody tr th:only-of-type {\n",
       "        vertical-align: middle;\n",
       "    }\n",
       "\n",
       "    .dataframe tbody tr th {\n",
       "        vertical-align: top;\n",
       "    }\n",
       "\n",
       "    .dataframe thead th {\n",
       "        text-align: right;\n",
       "    }\n",
       "</style>\n",
       "<table border=\"1\" class=\"dataframe\">\n",
       "  <thead>\n",
       "    <tr style=\"text-align: right;\">\n",
       "      <th></th>\n",
       "      <th>Marital status</th>\n",
       "      <th>Application mode</th>\n",
       "      <th>Application order</th>\n",
       "      <th>Course</th>\n",
       "      <th>Daytime/evening attendance</th>\n",
       "      <th>Previous qualification</th>\n",
       "      <th>Previous qualification (grade)</th>\n",
       "      <th>Nacionality</th>\n",
       "      <th>Mother's qualification</th>\n",
       "      <th>Father's qualification</th>\n",
       "      <th>Mother's occupation</th>\n",
       "      <th>Father's occupation</th>\n",
       "      <th>Admission grade</th>\n",
       "    </tr>\n",
       "  </thead>\n",
       "  <tbody>\n",
       "    <tr>\n",
       "      <th>0</th>\n",
       "      <td>1</td>\n",
       "      <td>17</td>\n",
       "      <td>5</td>\n",
       "      <td>171.0</td>\n",
       "      <td>1</td>\n",
       "      <td>1</td>\n",
       "      <td>122.0</td>\n",
       "      <td>1</td>\n",
       "      <td>19</td>\n",
       "      <td>12.0</td>\n",
       "      <td>5</td>\n",
       "      <td>9</td>\n",
       "      <td>127.3</td>\n",
       "    </tr>\n",
       "    <tr>\n",
       "      <th>1</th>\n",
       "      <td>1</td>\n",
       "      <td>15</td>\n",
       "      <td>1</td>\n",
       "      <td>9254.0</td>\n",
       "      <td>1</td>\n",
       "      <td>1</td>\n",
       "      <td>160.0</td>\n",
       "      <td>1</td>\n",
       "      <td>1</td>\n",
       "      <td>3.0</td>\n",
       "      <td>3</td>\n",
       "      <td>3</td>\n",
       "      <td>142.5</td>\n",
       "    </tr>\n",
       "    <tr>\n",
       "      <th>2</th>\n",
       "      <td>1</td>\n",
       "      <td>1</td>\n",
       "      <td>5</td>\n",
       "      <td>9070.0</td>\n",
       "      <td>1</td>\n",
       "      <td>1</td>\n",
       "      <td>122.0</td>\n",
       "      <td>1</td>\n",
       "      <td>37</td>\n",
       "      <td>37.0</td>\n",
       "      <td>9</td>\n",
       "      <td>9</td>\n",
       "      <td>124.8</td>\n",
       "    </tr>\n",
       "    <tr>\n",
       "      <th>3</th>\n",
       "      <td>1</td>\n",
       "      <td>17</td>\n",
       "      <td>2</td>\n",
       "      <td>9773.0</td>\n",
       "      <td>1</td>\n",
       "      <td>1</td>\n",
       "      <td>122.0</td>\n",
       "      <td>1</td>\n",
       "      <td>38</td>\n",
       "      <td>37.0</td>\n",
       "      <td>5</td>\n",
       "      <td>3</td>\n",
       "      <td>119.6</td>\n",
       "    </tr>\n",
       "    <tr>\n",
       "      <th>4</th>\n",
       "      <td>2</td>\n",
       "      <td>39</td>\n",
       "      <td>1</td>\n",
       "      <td>8014.0</td>\n",
       "      <td>0</td>\n",
       "      <td>1</td>\n",
       "      <td>100.0</td>\n",
       "      <td>1</td>\n",
       "      <td>37</td>\n",
       "      <td>38.0</td>\n",
       "      <td>9</td>\n",
       "      <td>9</td>\n",
       "      <td>141.5</td>\n",
       "    </tr>\n",
       "  </tbody>\n",
       "</table>\n",
       "</div>"
      ],
      "text/plain": [
       "  Marital status  Application mode  Application order  Course  \\\n",
       "0              1                17                  5   171.0   \n",
       "1              1                15                  1  9254.0   \n",
       "2              1                 1                  5  9070.0   \n",
       "3              1                17                  2  9773.0   \n",
       "4              2                39                  1  8014.0   \n",
       "\n",
       "   Daytime/evening attendance  Previous qualification  \\\n",
       "0                           1                       1   \n",
       "1                           1                       1   \n",
       "2                           1                       1   \n",
       "3                           1                       1   \n",
       "4                           0                       1   \n",
       "\n",
       "   Previous qualification (grade)  Nacionality  Mother's qualification  \\\n",
       "0                           122.0            1                      19   \n",
       "1                           160.0            1                       1   \n",
       "2                           122.0            1                      37   \n",
       "3                           122.0            1                      38   \n",
       "4                           100.0            1                      37   \n",
       "\n",
       "   Father's qualification  Mother's occupation  Father's occupation  \\\n",
       "0                    12.0                    5                    9   \n",
       "1                     3.0                    3                    3   \n",
       "2                    37.0                    9                    9   \n",
       "3                    37.0                    5                    3   \n",
       "4                    38.0                    9                    9   \n",
       "\n",
       "   Admission grade  \n",
       "0            127.3  \n",
       "1            142.5  \n",
       "2            124.8  \n",
       "3            119.6  \n",
       "4            141.5  "
      ]
     },
     "execution_count": 8,
     "metadata": {},
     "output_type": "execute_result"
    }
   ],
   "source": [
    "df.iloc[:, :13].head(5)"
   ]
  },
  {
   "cell_type": "markdown",
   "id": "37d62c2b",
   "metadata": {},
   "source": [
    "Analysing the information obtained using “`.iloc`” method and the command “`.dtypes`” found different types shown in the imported file together with the data dictionary, from 37 total features, 12 features with different types, based on those described in the dictionary document and 25 features with their respective types correct."
   ]
  },
  {
   "cell_type": "code",
   "execution_count": 9,
   "id": "f6a93f19",
   "metadata": {
    "scrolled": false
   },
   "outputs": [
    {
     "data": {
      "text/plain": [
       "Marital status                                     object\n",
       "Application mode                                    int64\n",
       "Application order                                   int64\n",
       "Course                                            float64\n",
       "Daytime/evening attendance                          int64\n",
       "Previous qualification                              int64\n",
       "Previous qualification (grade)                    float64\n",
       "Nacionality                                         int64\n",
       "Mother's qualification                              int64\n",
       "Father's qualification                            float64\n",
       "Mother's occupation                                 int64\n",
       "Father's occupation                                 int64\n",
       "Admission grade                                   float64\n",
       "Displaced                                          object\n",
       "Educational special needs                           int64\n",
       "Debtor                                            float64\n",
       "Tuition fees up to date                            object\n",
       "Gender                                              int64\n",
       "Scholarship holder                                  int64\n",
       "Age at enrollment                                  object\n",
       "International                                     float64\n",
       "Curricular units 1st sem (credited)                object\n",
       "Curricular units 1st sem (enrolled)                 int64\n",
       "Curricular units 1st sem (evaluations)              int64\n",
       "Curricular units 1st sem (approved)                 int64\n",
       "Curricular units 1st sem (grade)                  float64\n",
       "Curricular units 1st sem (without evaluations)      int64\n",
       "Curricular units 2nd sem (credited)                 int64\n",
       "Curricular units 2nd sem (enrolled)               float64\n",
       "Curricular units 2nd sem (evaluations)              int64\n",
       "Curricular units 2nd sem (approved)                 int64\n",
       "Curricular units 2nd sem (grade)                  float64\n",
       "Curricular units 2nd sem (without evaluations)      int64\n",
       "Unemployment rate                                 float64\n",
       "Inflation rate                                    float64\n",
       "GDP                                               float64\n",
       "Target                                             object\n",
       "dtype: object"
      ]
     },
     "execution_count": 9,
     "metadata": {},
     "output_type": "execute_result"
    }
   ],
   "source": [
    "df.dtypes"
   ]
  },
  {
   "cell_type": "markdown",
   "id": "ac8c9282",
   "metadata": {},
   "source": [
    "**Result:** 12 features with different types, based on described in the dictionary document:\n",
    "\n",
    "- **Marital status** is Categorical and should be Integer (int64)\n",
    "- **Course** is Continuous and should be Integer (int64)  \n",
    "- **Father's qualification** is Continuous and should be Integer (int64)\n",
    "- **Displaced** is Categorical and should be Integer (int64)\n",
    "- **Debtor** is Continuous and should be Integer (int64)\n",
    "- **Tuition fees up to date** is Categorical and should be Integer (int64)\n",
    "- **Age at enrollment** is Categorical and should be Integer (int64)\n",
    "- **International** is Continuous and should be Integer (int64)  \n",
    "- **Curricular units 1st sem (credited)** is Categorical and should be Integer (int64)\n",
    "- **Curricular units 1st sem (grade)** is Continuous and should be Integer (int64)  \n",
    "- **Curricular units 2nd sem (enrolled)** is Continuous and should be Integer (int64)  \n",
    "- **Curricular units 2nd sem (grade)** is Continuous and should be Integer (int64)  \n",
    "\n",
    "25 features with their respective types ok\n",
    "- Application mode Integer\n",
    "- Application order Integer\n",
    "- Daytime/evening attendance Integer\n",
    "- Previous qualification Integer\n",
    "- Previous qualification (grade) Continuous\n",
    "- Nacionality Integer\n",
    "- Mother's qualification Integer\n",
    "- Mother's occupation Integer\n",
    "- Father's occupation Integer\n",
    "- Admission grade Continuous\n",
    "- Educational special needs Integer\n",
    "- Gender Integer\n",
    "- Scholarship holder Integer\n",
    "- Curricular units 1st sem (enrolled) Integer\n",
    "- Curricular units 1st sem (evaluations) Integer\n",
    "- Curricular units 1st sem (approved) Integer\n",
    "- Curricular units 1st sem (without evaluations) Integer\n",
    "- Curricular units 2nd sem (credited) Integer\n",
    "- Curricular units 2nd sem (evaluations) Integer\n",
    "- Curricular units 2nd sem (approved) Integer\n",
    "- Curricular units 2nd sem (without evaluations) Integer\n",
    "- Unemployment rate Continuous\n",
    "- Inflation rate Continuous\n",
    "- GDP Continuous\n",
    "- Target Categorical"
   ]
  },
  {
   "cell_type": "markdown",
   "id": "ff33ade2",
   "metadata": {},
   "source": [
    "Before dealing with the different types, opt to understand and resolve the missing values to get the data for their respective correct types, whether this approach does not change some features it will be necessary to convert the whole feature to the correct type.\n",
    "\n",
    "After using the “.unique()” method to check the missing values in the features that were missing values and different types, and just to make sure all features existent in this file, such as described below:\n",
    "\n",
    "Marital status, Application mode, Application order, Course, Daytime/evening attendance, Previous qualification, Previous qualification (grade), Nacionality, Mother's qualification, Father's qualification, Mother's occupation, Father's occupation, Admission grade, Displaced, Educational special needs, Debtor, Tuition fees up to date, Gender, Scholarship holder, Age at enrollment, International, Curricular units 1st sem (credited), Curricular units 1st sem (enrolled), Curricular units 1st sem (evaluations), Curricular units 1st sem (approved), Curricular units 1st sem (grade), Curricular units 1st sem (without evaluations), Curricular units 2nd sem (credited), Curricular units 2nd sem (enrolled), Curricular units 2nd sem (evaluations), Curricular units 2nd sem (approved), Curricular units 2nd sem (grade), Curricular units 2nd sem (without evaluations), Unemployment rate, Inflation rate, GDP, Target.        \n"
   ]
  },
  {
   "cell_type": "code",
   "execution_count": 10,
   "id": "2dbf1279",
   "metadata": {
    "scrolled": true
   },
   "outputs": [
    {
     "data": {
      "text/plain": [
       "array(['20', '19', '45', '50', '18', '22', '21', '34', '37', '43', '55',\n",
       "       '39', '29', '24', '27', '23', '26', '33', '35', '25', '44', '36',\n",
       "       '47', '28', '38', 'UnKnown', '30', '31', '32', '40', '42', '48',\n",
       "       '49', '46', '41', '70', '60', '53', '51', '52', '54', '61', '58',\n",
       "       '59', '17', '57', '62'], dtype=object)"
      ]
     },
     "execution_count": 10,
     "metadata": {},
     "output_type": "execute_result"
    }
   ],
   "source": [
    "df[\"Age at enrollment\"].unique()"
   ]
  },
  {
   "cell_type": "markdown",
   "id": "aa647ffa",
   "metadata": {},
   "source": [
    "It was found the different types of existents in the features below:\n",
    "\n",
    "- Marital status** = '?'\n",
    "- Course*** = nan\n",
    "- Father's qualification*** = nan\n",
    "- Displaced** = '?'\n",
    "- Debtor*** = nan\n",
    "- Tuition fees up to date*** = nan and '?'\n",
    "- Age at enrollment** = 'UnKnown'\n",
    "- International*** = nan\n",
    "- Curricular units 1st sem (credited)** = 'Na'\n",
    "- Curricular units 1st sem (grade)*** = nan\n",
    "- Curricular units 2nd sem (enrolled)*** = nan\n",
    "- Curricular units 2nd sem (grade)*** = nan\n",
    "- Admission grade* = nan\n",
    "\n",
    "The meaning of * after the feature’s name:\n",
    "- (*) Missing Values\n",
    "- (**) Different Data Types\n",
    "- (***) Missing Values and Different Data Types\n",
    "\n",
    "The feature “Target”, there are some divergences, should have just three category classification tasks (Dropout, Enrolled, and Graduate) and be found: “Grad”, “graduate”, “Drop” and “dropout”. "
   ]
  },
  {
   "cell_type": "markdown",
   "id": "03cef2e8",
   "metadata": {},
   "source": [
    "#### 3.\tMARK INVALID VALUES AS MISSING (NAN)\n",
    "\n",
    "All different missing values existents such as before: “`?, UnKnown and Na`” have been marked now as NaN to get easy in case needed to catch them in the same data frame."
   ]
  },
  {
   "cell_type": "code",
   "execution_count": 11,
   "id": "cb1c8005",
   "metadata": {},
   "outputs": [],
   "source": [
    "missing_value_formats = [\"?\", \"UnKnown\", \"Na\"]"
   ]
  },
  {
   "cell_type": "code",
   "execution_count": 12,
   "id": "f1984080",
   "metadata": {},
   "outputs": [],
   "source": [
    "df = pd.read_csv(\"student_data.csv\", na_values = missing_value_formats)"
   ]
  },
  {
   "cell_type": "markdown",
   "id": "683d5acf",
   "metadata": {},
   "source": [
    "Now that all missing values are marked with NaN, the “`.unique()`” method was used to check the missing values and make sure whether they have been changed or not."
   ]
  },
  {
   "cell_type": "code",
   "execution_count": 13,
   "id": "0ea69a44",
   "metadata": {},
   "outputs": [
    {
     "data": {
      "text/plain": [
       "array([ 1.,  0., nan])"
      ]
     },
     "execution_count": 13,
     "metadata": {},
     "output_type": "execute_result"
    }
   ],
   "source": [
    "df[\"Displaced\"].unique()"
   ]
  },
  {
   "cell_type": "markdown",
   "id": "9e872af1",
   "metadata": {},
   "source": [
    "After it was created a new data frame variable using the method “`.dropna()`” with the parameter “`axis = 0`” to drop all observations to check if the data set types would be fixed."
   ]
  },
  {
   "cell_type": "code",
   "execution_count": 14,
   "id": "94d3bead",
   "metadata": {},
   "outputs": [],
   "source": [
    "new_df = df.dropna(axis = 0)"
   ]
  },
  {
   "cell_type": "code",
   "execution_count": 15,
   "id": "d156dbf2",
   "metadata": {},
   "outputs": [
    {
     "data": {
      "text/plain": [
       "False"
      ]
     },
     "execution_count": 15,
     "metadata": {},
     "output_type": "execute_result"
    }
   ],
   "source": [
    "new_df.isnull().values.any()"
   ]
  },
  {
   "cell_type": "markdown",
   "id": "0b2f39af",
   "metadata": {},
   "source": [
    "Using the methods “`.isnull()`”, “`.values`” and “`.any()`” was checked the result: False that there were no missing values in the dataset."
   ]
  },
  {
   "cell_type": "code",
   "execution_count": 16,
   "id": "48948762",
   "metadata": {},
   "outputs": [],
   "source": [
    "# new_df.dtypes"
   ]
  },
  {
   "cell_type": "markdown",
   "id": "7e07f491",
   "metadata": {},
   "source": [
    "Next using “.dtypes” methods and checked if the respective types it was correct or not, and not did any difference, the approach thought before to resolve the missing values after converting the whole feature to the correct type it was unsuccessful. There are no more missing values at the moment although the data types remain the same, so instead to deal with the missing values first it will try first to fix the data types.\n",
    "\n",
    "After reading the Pandas Conversion documentation and trying to use “`DataFrame.astype(dtype[, copy, errors])`” Cast a pandas object to a specified dtype., “`DataFrame.convert_dtypes([infer_objects, ...])`” Convert columns to the best possible dtypes using dtypes supporting pd.NA., (The Pandas Development Team, 2024) and read the error “`IntCastingNaNError: Cannot convert non-finite values (NA or inf) to integer`” informed by the Jypter notebook, get understood that needs to deal with missing values first and next move to the others steps."
   ]
  },
  {
   "cell_type": "markdown",
   "id": "ea05389b",
   "metadata": {},
   "source": [
    "#### 4.\tDEALING WITH MISSING DATA AND STANDARDIZE CATEGORIES\n",
    "\n",
    "There are 13 features missing data: Marital status, Course, Father's qualification, Admission grade,  Displaced, Debtor, Tuition fees up to date, Age at enrollment, International, Curricular units 1st sem (credited), Curricular units 1st sem (grade), Curricular units 2nd sem (enrolled) and Curricular units 2nd sem (grade). Let’s check one by one:\n",
    "\n",
    "- **Marital status** is Categorical and should be Integer, there are just finite specific values to be part of the data such as those available on the data dictionary document, for this specific case, opted to drop the whole observation;\n",
    "- **Course** is Continuous and should be Integer, same as Marital status, there are just finite specific values to be part of the data;\n",
    "- **Father's qualification** is Continuous and should be Integer, same as the two before;\n",
    "- **Admission grade** is missing a value but is Continuous, it is already at the right data type, opted to use the method “.mean()” to replace the NaN(s) value missing;\n",
    "- **Displaced** is Categorical and should be Integer, limited values, same as before;\n",
    "- **Debtor** is Continuous and should be Integer, limited values, same as before;\n",
    "- **Tuition** fees up to date is Categorical and should be Integer, limited values, same as before;\n",
    "- **Age at enrollment** is Categorical and should be Integer, with limited values, same as before, there is no way to guess which is the age;\n",
    "- **International** is Continuous and should be Integer, limited values, same as before;\n",
    "- **Curricular units 1st sem (credited)** is Categorical and should be Integer, limited values, same as before, in this case, I could use the method “.mean()”, but there are lots of observations with 0 as value, so opted to drop since data lost is minimal;\n",
    "- **Curricular units 1st sem (grade)** is Continuous and should be Integer (int64), opted to use the method “.mean()” to replace the NaN(s) value missing;\n",
    "- **Curricular units 2nd sem (enrolled)** is Continuous and should be Integer, dropped after drop  Displaced;\n",
    "- **Curricular units 2nd sem (grade)** is Continuous and should be Integer, same as “Curricular units 1st sem (grade)”;"
   ]
  },
  {
   "cell_type": "markdown",
   "id": "275286a3",
   "metadata": {},
   "source": [
    "The command “`.isnull()].head()`” was used to check each row that contains NaN in their respective features/observations."
   ]
  },
  {
   "cell_type": "code",
   "execution_count": 17,
   "id": "e5ca2e56",
   "metadata": {},
   "outputs": [
    {
     "data": {
      "text/html": [
       "<div>\n",
       "<style scoped>\n",
       "    .dataframe tbody tr th:only-of-type {\n",
       "        vertical-align: middle;\n",
       "    }\n",
       "\n",
       "    .dataframe tbody tr th {\n",
       "        vertical-align: top;\n",
       "    }\n",
       "\n",
       "    .dataframe thead th {\n",
       "        text-align: right;\n",
       "    }\n",
       "</style>\n",
       "<table border=\"1\" class=\"dataframe\">\n",
       "  <thead>\n",
       "    <tr style=\"text-align: right;\">\n",
       "      <th></th>\n",
       "      <th>Marital status</th>\n",
       "      <th>Application mode</th>\n",
       "      <th>Application order</th>\n",
       "      <th>Course</th>\n",
       "      <th>Daytime/evening attendance</th>\n",
       "      <th>Previous qualification</th>\n",
       "      <th>Previous qualification (grade)</th>\n",
       "      <th>Nacionality</th>\n",
       "      <th>Mother's qualification</th>\n",
       "      <th>Father's qualification</th>\n",
       "      <th>...</th>\n",
       "      <th>Curricular units 2nd sem (credited)</th>\n",
       "      <th>Curricular units 2nd sem (enrolled)</th>\n",
       "      <th>Curricular units 2nd sem (evaluations)</th>\n",
       "      <th>Curricular units 2nd sem (approved)</th>\n",
       "      <th>Curricular units 2nd sem (grade)</th>\n",
       "      <th>Curricular units 2nd sem (without evaluations)</th>\n",
       "      <th>Unemployment rate</th>\n",
       "      <th>Inflation rate</th>\n",
       "      <th>GDP</th>\n",
       "      <th>Target</th>\n",
       "    </tr>\n",
       "  </thead>\n",
       "  <tbody>\n",
       "    <tr>\n",
       "      <th>154</th>\n",
       "      <td>NaN</td>\n",
       "      <td>43</td>\n",
       "      <td>1</td>\n",
       "      <td>9853.0</td>\n",
       "      <td>1</td>\n",
       "      <td>1</td>\n",
       "      <td>115.0</td>\n",
       "      <td>1</td>\n",
       "      <td>3</td>\n",
       "      <td>37.0</td>\n",
       "      <td>...</td>\n",
       "      <td>0</td>\n",
       "      <td>6.0</td>\n",
       "      <td>12</td>\n",
       "      <td>3</td>\n",
       "      <td>10.0</td>\n",
       "      <td>0</td>\n",
       "      <td>9.4</td>\n",
       "      <td>-0.8</td>\n",
       "      <td>-3.12</td>\n",
       "      <td>Dropout</td>\n",
       "    </tr>\n",
       "  </tbody>\n",
       "</table>\n",
       "<p>1 rows × 37 columns</p>\n",
       "</div>"
      ],
      "text/plain": [
       "     Marital status  Application mode  Application order  Course  \\\n",
       "154             NaN                43                  1  9853.0   \n",
       "\n",
       "     Daytime/evening attendance  Previous qualification  \\\n",
       "154                           1                       1   \n",
       "\n",
       "     Previous qualification (grade)  Nacionality  Mother's qualification  \\\n",
       "154                           115.0            1                       3   \n",
       "\n",
       "     Father's qualification  ...  Curricular units 2nd sem (credited)  \\\n",
       "154                    37.0  ...                                    0   \n",
       "\n",
       "     Curricular units 2nd sem (enrolled)  \\\n",
       "154                                  6.0   \n",
       "\n",
       "     Curricular units 2nd sem (evaluations)  \\\n",
       "154                                      12   \n",
       "\n",
       "     Curricular units 2nd sem (approved)  Curricular units 2nd sem (grade)  \\\n",
       "154                                    3                              10.0   \n",
       "\n",
       "     Curricular units 2nd sem (without evaluations)  Unemployment rate  \\\n",
       "154                                               0                9.4   \n",
       "\n",
       "     Inflation rate   GDP   Target  \n",
       "154            -0.8 -3.12  Dropout  \n",
       "\n",
       "[1 rows x 37 columns]"
      ]
     },
     "execution_count": 17,
     "metadata": {},
     "output_type": "execute_result"
    }
   ],
   "source": [
    "df[df['Marital status'].isnull()].head()"
   ]
  },
  {
   "cell_type": "markdown",
   "id": "e1222ad4",
   "metadata": {},
   "source": [
    "Used “`.dropna`” to drop their respective observations, with the parameter “`subset`” “Labels along other axis to consider, e.g. if you are dropping rows these would be a list of columns to include.” and the parameter “`inplace`” “Whether to modify the DataFrame rather than creating a new one.” (The Pandas Development Team, 2024b)."
   ]
  },
  {
   "cell_type": "code",
   "execution_count": 18,
   "id": "f33704b8",
   "metadata": {},
   "outputs": [],
   "source": [
    "df.dropna(subset=['Marital status', 'Course', 'Father\\'s qualification', 'Displaced', 'Debtor', 'Tuition fees up to date', 'Age at enrollment', 'International', 'Curricular units 1st sem (credited)'], inplace = True)"
   ]
  },
  {
   "cell_type": "markdown",
   "id": "9464b04a",
   "metadata": {},
   "source": [
    "After checking the missing values again with “`.isnull().sum()[df.isnull().sum() > 0]`” to get just the specific features that exist missing values."
   ]
  },
  {
   "cell_type": "code",
   "execution_count": 19,
   "id": "22b56676",
   "metadata": {},
   "outputs": [
    {
     "data": {
      "text/plain": [
       "Admission grade                     1\n",
       "Curricular units 1st sem (grade)    1\n",
       "Curricular units 2nd sem (grade)    1\n",
       "dtype: int64"
      ]
     },
     "execution_count": 19,
     "metadata": {},
     "output_type": "execute_result"
    }
   ],
   "source": [
    "df.isnull().sum()[df.isnull().sum() > 0]"
   ]
  },
  {
   "cell_type": "markdown",
   "id": "400a0a2c",
   "metadata": {},
   "source": [
    "In this case: Admission grade, Curricular units 1st sem (grade) and Curricular units 2nd sem (grade), that were used other approach with method “.mean()” to fill in the NaN(s) value missing."
   ]
  },
  {
   "cell_type": "code",
   "execution_count": 20,
   "id": "1cc027ea",
   "metadata": {},
   "outputs": [],
   "source": [
    "df['Admission grade'] = df['Admission grade'].fillna(int(df['Admission grade'].mean()))\n",
    "df['Curricular units 1st sem (grade)'] = df['Curricular units 1st sem (grade)'].fillna(int(df['Curricular units 1st sem (grade)'].mean()))\n",
    "df['Curricular units 2nd sem (grade)'] = df['Curricular units 2nd sem (grade)'].fillna(int(df['Curricular units 2nd sem (grade)'].mean()))"
   ]
  },
  {
   "cell_type": "markdown",
   "id": "29cc6c28",
   "metadata": {},
   "source": [
    "Next, it was used “.isnull().sum()” to finally check if still has or does not have any missing values."
   ]
  },
  {
   "cell_type": "code",
   "execution_count": 21,
   "id": "48cf4f53",
   "metadata": {},
   "outputs": [],
   "source": [
    "# df.isnull().sum()"
   ]
  },
  {
   "cell_type": "markdown",
   "id": "aa2d13c4",
   "metadata": {},
   "source": [
    "The feature “`Target`” still has some divergences, used the method “`.replace`” with the parameter “`inplace = True`” to correct the divergences, Grad to Graduate, graduate to Graduate, Drop to Dropout and dropout to Dropout."
   ]
  },
  {
   "cell_type": "code",
   "execution_count": 22,
   "id": "87c52d1a",
   "metadata": {},
   "outputs": [
    {
     "data": {
      "text/plain": [
       "array(['Dropout', 'Graduate', 'Enrolled', 'Grad', 'graduate', 'Drop',\n",
       "       'dropout'], dtype=object)"
      ]
     },
     "execution_count": 22,
     "metadata": {},
     "output_type": "execute_result"
    }
   ],
   "source": [
    "df[\"Target\"].unique()"
   ]
  },
  {
   "cell_type": "code",
   "execution_count": 23,
   "id": "5dbd6fff",
   "metadata": {},
   "outputs": [],
   "source": [
    "df['Target'].replace('Grad', 'Graduate', inplace = True)\n",
    "df['Target'].replace('graduate', 'Graduate', inplace = True)\n",
    "df['Target'].replace('Drop', 'Dropout', inplace = True)\n",
    "df['Target'].replace('dropout', 'Dropout', inplace = True)"
   ]
  },
  {
   "cell_type": "markdown",
   "id": "c83bb6c7",
   "metadata": {},
   "source": [
    "After checking with “`.unique()`” method if the categories are correct now."
   ]
  },
  {
   "cell_type": "code",
   "execution_count": 24,
   "id": "3f4b339a",
   "metadata": {},
   "outputs": [
    {
     "data": {
      "text/plain": [
       "array(['Dropout', 'Graduate', 'Enrolled'], dtype=object)"
      ]
     },
     "execution_count": 24,
     "metadata": {},
     "output_type": "execute_result"
    }
   ],
   "source": [
    "df[\"Target\"].unique()"
   ]
  },
  {
   "cell_type": "markdown",
   "id": "8caec439",
   "metadata": {},
   "source": [
    "After it was checked if there were any duplicated observations in the data frame, none were found."
   ]
  },
  {
   "cell_type": "code",
   "execution_count": 25,
   "id": "4ddcf135",
   "metadata": {},
   "outputs": [
    {
     "data": {
      "text/plain": [
       "(0, 37)"
      ]
     },
     "execution_count": 25,
     "metadata": {},
     "output_type": "execute_result"
    }
   ],
   "source": [
    "df[df.duplicated()].shape"
   ]
  },
  {
   "cell_type": "markdown",
   "id": "24b866be",
   "metadata": {},
   "source": [
    "#### 5.\tDEALING WITH DATA TYPES\n",
    "\n",
    "Changed the data types for the features 12 features: Marital status, Course, Father’s qualification, Displaced, Debtor, Tuition fees up to date, Age at enrollment, International, Curricular units 1st sem (credited), Curricular units 1st sem (grade), Curricular units 2nd sem (enrolled), Curricular units 2nd sem (grade) using “.astype(int)”."
   ]
  },
  {
   "cell_type": "code",
   "execution_count": 26,
   "id": "133444a9",
   "metadata": {},
   "outputs": [],
   "source": [
    "df[['Marital status', 'Course', 'Father\\'s qualification', 'Displaced', 'Debtor', 'Tuition fees up to date', 'Age at enrollment', 'International', 'Curricular units 1st sem (credited)', 'Curricular units 1st sem (grade)', 'Curricular units 2nd sem (enrolled)', 'Curricular units 2nd sem (grade)']] = df[['Marital status', 'Course', 'Father\\'s qualification', 'Displaced', 'Debtor', 'Tuition fees up to date', 'Age at enrollment', 'International', 'Curricular units 1st sem (credited)', 'Curricular units 1st sem (grade)', 'Curricular units 2nd sem (enrolled)', 'Curricular units 2nd sem (grade)']].astype(int)"
   ]
  },
  {
   "cell_type": "markdown",
   "id": "473cf1dc",
   "metadata": {},
   "source": [
    "After that checking with “.dtypes” whether has been changed just the specific features before."
   ]
  },
  {
   "cell_type": "code",
   "execution_count": 27,
   "id": "a11badde",
   "metadata": {},
   "outputs": [
    {
     "data": {
      "text/plain": [
       "Marital status                         int64\n",
       "Course                                 int64\n",
       "Father's qualification                 int64\n",
       "Displaced                              int64\n",
       "Debtor                                 int64\n",
       "Tuition fees up to date                int64\n",
       "Age at enrollment                      int64\n",
       "International                          int64\n",
       "Curricular units 1st sem (credited)    int64\n",
       "Curricular units 1st sem (grade)       int64\n",
       "Curricular units 2nd sem (enrolled)    int64\n",
       "Curricular units 2nd sem (grade)       int64\n",
       "dtype: object"
      ]
     },
     "execution_count": 27,
     "metadata": {},
     "output_type": "execute_result"
    }
   ],
   "source": [
    "df[['Marital status', 'Course', 'Father\\'s qualification', 'Displaced', 'Debtor', 'Tuition fees up to date', 'Age at enrollment', 'International', 'Curricular units 1st sem (credited)', 'Curricular units 1st sem (grade)', 'Curricular units 2nd sem (enrolled)', 'Curricular units 2nd sem (grade)']].dtypes"
   ]
  },
  {
   "cell_type": "markdown",
   "id": "4c079d4e",
   "metadata": {},
   "source": [
    "And it checked all data frame with “.dtypes” as well as with the dictionary."
   ]
  },
  {
   "cell_type": "code",
   "execution_count": 28,
   "id": "688e818b",
   "metadata": {},
   "outputs": [
    {
     "data": {
      "text/plain": [
       "Marital status                                      int64\n",
       "Application mode                                    int64\n",
       "Application order                                   int64\n",
       "Course                                              int64\n",
       "Daytime/evening attendance                          int64\n",
       "Previous qualification                              int64\n",
       "Previous qualification (grade)                    float64\n",
       "Nacionality                                         int64\n",
       "Mother's qualification                              int64\n",
       "Father's qualification                              int64\n",
       "Mother's occupation                                 int64\n",
       "Father's occupation                                 int64\n",
       "Admission grade                                   float64\n",
       "Displaced                                           int64\n",
       "Educational special needs                           int64\n",
       "Debtor                                              int64\n",
       "Tuition fees up to date                             int64\n",
       "Gender                                              int64\n",
       "Scholarship holder                                  int64\n",
       "Age at enrollment                                   int64\n",
       "International                                       int64\n",
       "Curricular units 1st sem (credited)                 int64\n",
       "Curricular units 1st sem (enrolled)                 int64\n",
       "Curricular units 1st sem (evaluations)              int64\n",
       "Curricular units 1st sem (approved)                 int64\n",
       "Curricular units 1st sem (grade)                    int64\n",
       "Curricular units 1st sem (without evaluations)      int64\n",
       "Curricular units 2nd sem (credited)                 int64\n",
       "Curricular units 2nd sem (enrolled)                 int64\n",
       "Curricular units 2nd sem (evaluations)              int64\n",
       "Curricular units 2nd sem (approved)                 int64\n",
       "Curricular units 2nd sem (grade)                    int64\n",
       "Curricular units 2nd sem (without evaluations)      int64\n",
       "Unemployment rate                                 float64\n",
       "Inflation rate                                    float64\n",
       "GDP                                               float64\n",
       "Target                                             object\n",
       "dtype: object"
      ]
     },
     "execution_count": 28,
     "metadata": {},
     "output_type": "execute_result"
    }
   ],
   "source": [
    "df.dtypes"
   ]
  },
  {
   "cell_type": "markdown",
   "id": "92fc694c",
   "metadata": {},
   "source": [
    "#### 6.\tSCALING / TRANSFORMATION AND DATA NORMALISATION"
   ]
  },
  {
   "cell_type": "code",
   "execution_count": null,
   "id": "0fc707e9",
   "metadata": {},
   "outputs": [],
   "source": []
  },
  {
   "cell_type": "code",
   "execution_count": null,
   "id": "fd19d5a0",
   "metadata": {},
   "outputs": [],
   "source": []
  },
  {
   "cell_type": "code",
   "execution_count": null,
   "id": "baf6005d",
   "metadata": {},
   "outputs": [],
   "source": []
  }
 ],
 "metadata": {
  "kernelspec": {
   "display_name": "Python 3 (ipykernel)",
   "language": "python",
   "name": "python3"
  },
  "language_info": {
   "codemirror_mode": {
    "name": "ipython",
    "version": 3
   },
   "file_extension": ".py",
   "mimetype": "text/x-python",
   "name": "python",
   "nbconvert_exporter": "python",
   "pygments_lexer": "ipython3",
   "version": "3.11.5"
  }
 },
 "nbformat": 4,
 "nbformat_minor": 5
}
